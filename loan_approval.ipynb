{
 "cells": [
  {
   "cell_type": "markdown",
   "id": "aaba6977",
   "metadata": {},
   "source": [
    "## 1.Importing libraries"
   ]
  },
  {
   "cell_type": "code",
   "execution_count": 1,
   "id": "3ad6f22a",
   "metadata": {},
   "outputs": [],
   "source": [
    "import numpy as np\n",
    "import pandas as pd\n",
    "import matplotlib.pyplot as plt\n",
    "import seaborn as sns "
   ]
  },
  {
   "cell_type": "markdown",
   "id": "2fae797c",
   "metadata": {},
   "source": [
    "##  2.Data Preprocessing"
   ]
  },
  {
   "cell_type": "code",
   "execution_count": 2,
   "id": "384a7185",
   "metadata": {},
   "outputs": [],
   "source": [
    "df = pd.read_csv('loan_approval_dataset.csv')"
   ]
  },
  {
   "cell_type": "code",
   "execution_count": 3,
   "id": "4f03964f",
   "metadata": {},
   "outputs": [
    {
     "data": {
      "text/plain": [
       "Index(['loan_id', ' no_of_dependents', ' education', ' self_employed',\n",
       "       ' income_annum', ' loan_amount', ' loan_term', ' cibil_score',\n",
       "       ' residential_assets_value', ' commercial_assets_value',\n",
       "       ' luxury_assets_value', ' bank_asset_value', ' loan_status'],\n",
       "      dtype='object')"
      ]
     },
     "execution_count": 3,
     "metadata": {},
     "output_type": "execute_result"
    }
   ],
   "source": [
    "df.columns"
   ]
  },
  {
   "cell_type": "code",
   "execution_count": 4,
   "id": "4492e3ab",
   "metadata": {},
   "outputs": [],
   "source": [
    "df.columns = df.columns.str.lstrip()"
   ]
  },
  {
   "cell_type": "code",
   "execution_count": 5,
   "id": "216b7a66",
   "metadata": {},
   "outputs": [
    {
     "data": {
      "text/plain": [
       "Index(['loan_id', 'no_of_dependents', 'education', 'self_employed',\n",
       "       'income_annum', 'loan_amount', 'loan_term', 'cibil_score',\n",
       "       'residential_assets_value', 'commercial_assets_value',\n",
       "       'luxury_assets_value', 'bank_asset_value', 'loan_status'],\n",
       "      dtype='object')"
      ]
     },
     "execution_count": 5,
     "metadata": {},
     "output_type": "execute_result"
    }
   ],
   "source": [
    "df.columns"
   ]
  },
  {
   "cell_type": "code",
   "execution_count": 6,
   "id": "e5358bf3",
   "metadata": {},
   "outputs": [
    {
     "data": {
      "text/plain": [
       "loan_id                     0\n",
       "no_of_dependents            0\n",
       "education                   0\n",
       "self_employed               0\n",
       "income_annum                0\n",
       "loan_amount                 0\n",
       "loan_term                   0\n",
       "cibil_score                 0\n",
       "residential_assets_value    0\n",
       "commercial_assets_value     0\n",
       "luxury_assets_value         0\n",
       "bank_asset_value            0\n",
       "loan_status                 0\n",
       "dtype: int64"
      ]
     },
     "execution_count": 6,
     "metadata": {},
     "output_type": "execute_result"
    }
   ],
   "source": [
    "df.isnull().sum()"
   ]
  },
  {
   "cell_type": "code",
   "execution_count": 7,
   "id": "90bd6fdb",
   "metadata": {},
   "outputs": [
    {
     "data": {
      "text/plain": [
       "0"
      ]
     },
     "execution_count": 7,
     "metadata": {},
     "output_type": "execute_result"
    }
   ],
   "source": [
    "df.duplicated().sum()"
   ]
  },
  {
   "cell_type": "code",
   "execution_count": 8,
   "id": "9ea8736c",
   "metadata": {},
   "outputs": [
    {
     "data": {
      "text/html": [
       "<div>\n",
       "<style scoped>\n",
       "    .dataframe tbody tr th:only-of-type {\n",
       "        vertical-align: middle;\n",
       "    }\n",
       "\n",
       "    .dataframe tbody tr th {\n",
       "        vertical-align: top;\n",
       "    }\n",
       "\n",
       "    .dataframe thead th {\n",
       "        text-align: right;\n",
       "    }\n",
       "</style>\n",
       "<table border=\"1\" class=\"dataframe\">\n",
       "  <thead>\n",
       "    <tr style=\"text-align: right;\">\n",
       "      <th></th>\n",
       "      <th>loan_id</th>\n",
       "      <th>no_of_dependents</th>\n",
       "      <th>education</th>\n",
       "      <th>self_employed</th>\n",
       "      <th>income_annum</th>\n",
       "      <th>loan_amount</th>\n",
       "      <th>loan_term</th>\n",
       "      <th>cibil_score</th>\n",
       "      <th>residential_assets_value</th>\n",
       "      <th>commercial_assets_value</th>\n",
       "      <th>luxury_assets_value</th>\n",
       "      <th>bank_asset_value</th>\n",
       "      <th>loan_status</th>\n",
       "    </tr>\n",
       "  </thead>\n",
       "  <tbody>\n",
       "    <tr>\n",
       "      <th>0</th>\n",
       "      <td>1</td>\n",
       "      <td>2</td>\n",
       "      <td>Graduate</td>\n",
       "      <td>No</td>\n",
       "      <td>9600000</td>\n",
       "      <td>29900000</td>\n",
       "      <td>12</td>\n",
       "      <td>778</td>\n",
       "      <td>2400000</td>\n",
       "      <td>17600000</td>\n",
       "      <td>22700000</td>\n",
       "      <td>8000000</td>\n",
       "      <td>Approved</td>\n",
       "    </tr>\n",
       "    <tr>\n",
       "      <th>1</th>\n",
       "      <td>2</td>\n",
       "      <td>0</td>\n",
       "      <td>Not Graduate</td>\n",
       "      <td>Yes</td>\n",
       "      <td>4100000</td>\n",
       "      <td>12200000</td>\n",
       "      <td>8</td>\n",
       "      <td>417</td>\n",
       "      <td>2700000</td>\n",
       "      <td>2200000</td>\n",
       "      <td>8800000</td>\n",
       "      <td>3300000</td>\n",
       "      <td>Rejected</td>\n",
       "    </tr>\n",
       "    <tr>\n",
       "      <th>2</th>\n",
       "      <td>3</td>\n",
       "      <td>3</td>\n",
       "      <td>Graduate</td>\n",
       "      <td>No</td>\n",
       "      <td>9100000</td>\n",
       "      <td>29700000</td>\n",
       "      <td>20</td>\n",
       "      <td>506</td>\n",
       "      <td>7100000</td>\n",
       "      <td>4500000</td>\n",
       "      <td>33300000</td>\n",
       "      <td>12800000</td>\n",
       "      <td>Rejected</td>\n",
       "    </tr>\n",
       "    <tr>\n",
       "      <th>3</th>\n",
       "      <td>4</td>\n",
       "      <td>3</td>\n",
       "      <td>Graduate</td>\n",
       "      <td>No</td>\n",
       "      <td>8200000</td>\n",
       "      <td>30700000</td>\n",
       "      <td>8</td>\n",
       "      <td>467</td>\n",
       "      <td>18200000</td>\n",
       "      <td>3300000</td>\n",
       "      <td>23300000</td>\n",
       "      <td>7900000</td>\n",
       "      <td>Rejected</td>\n",
       "    </tr>\n",
       "    <tr>\n",
       "      <th>4</th>\n",
       "      <td>5</td>\n",
       "      <td>5</td>\n",
       "      <td>Not Graduate</td>\n",
       "      <td>Yes</td>\n",
       "      <td>9800000</td>\n",
       "      <td>24200000</td>\n",
       "      <td>20</td>\n",
       "      <td>382</td>\n",
       "      <td>12400000</td>\n",
       "      <td>8200000</td>\n",
       "      <td>29400000</td>\n",
       "      <td>5000000</td>\n",
       "      <td>Rejected</td>\n",
       "    </tr>\n",
       "  </tbody>\n",
       "</table>\n",
       "</div>"
      ],
      "text/plain": [
       "   loan_id  no_of_dependents      education self_employed  income_annum  \\\n",
       "0        1                 2       Graduate            No       9600000   \n",
       "1        2                 0   Not Graduate           Yes       4100000   \n",
       "2        3                 3       Graduate            No       9100000   \n",
       "3        4                 3       Graduate            No       8200000   \n",
       "4        5                 5   Not Graduate           Yes       9800000   \n",
       "\n",
       "   loan_amount  loan_term  cibil_score  residential_assets_value  \\\n",
       "0     29900000         12          778                   2400000   \n",
       "1     12200000          8          417                   2700000   \n",
       "2     29700000         20          506                   7100000   \n",
       "3     30700000          8          467                  18200000   \n",
       "4     24200000         20          382                  12400000   \n",
       "\n",
       "   commercial_assets_value  luxury_assets_value  bank_asset_value loan_status  \n",
       "0                 17600000             22700000           8000000    Approved  \n",
       "1                  2200000              8800000           3300000    Rejected  \n",
       "2                  4500000             33300000          12800000    Rejected  \n",
       "3                  3300000             23300000           7900000    Rejected  \n",
       "4                  8200000             29400000           5000000    Rejected  "
      ]
     },
     "execution_count": 8,
     "metadata": {},
     "output_type": "execute_result"
    }
   ],
   "source": [
    "df.head()"
   ]
  },
  {
   "cell_type": "code",
   "execution_count": 9,
   "id": "00ebd441",
   "metadata": {},
   "outputs": [
    {
     "data": {
      "text/plain": [
       "(4269, 13)"
      ]
     },
     "execution_count": 9,
     "metadata": {},
     "output_type": "execute_result"
    }
   ],
   "source": [
    "df.shape"
   ]
  },
  {
   "cell_type": "code",
   "execution_count": 10,
   "id": "688c544f",
   "metadata": {},
   "outputs": [
    {
     "name": "stdout",
     "output_type": "stream",
     "text": [
      "<class 'pandas.core.frame.DataFrame'>\n",
      "RangeIndex: 4269 entries, 0 to 4268\n",
      "Data columns (total 13 columns):\n",
      " #   Column                    Non-Null Count  Dtype \n",
      "---  ------                    --------------  ----- \n",
      " 0   loan_id                   4269 non-null   int64 \n",
      " 1   no_of_dependents          4269 non-null   int64 \n",
      " 2   education                 4269 non-null   object\n",
      " 3   self_employed             4269 non-null   object\n",
      " 4   income_annum              4269 non-null   int64 \n",
      " 5   loan_amount               4269 non-null   int64 \n",
      " 6   loan_term                 4269 non-null   int64 \n",
      " 7   cibil_score               4269 non-null   int64 \n",
      " 8   residential_assets_value  4269 non-null   int64 \n",
      " 9   commercial_assets_value   4269 non-null   int64 \n",
      " 10  luxury_assets_value       4269 non-null   int64 \n",
      " 11  bank_asset_value          4269 non-null   int64 \n",
      " 12  loan_status               4269 non-null   object\n",
      "dtypes: int64(10), object(3)\n",
      "memory usage: 433.7+ KB\n"
     ]
    }
   ],
   "source": [
    "df.info()"
   ]
  },
  {
   "cell_type": "code",
   "execution_count": 11,
   "id": "9aec6988",
   "metadata": {},
   "outputs": [
    {
     "data": {
      "text/html": [
       "<div>\n",
       "<style scoped>\n",
       "    .dataframe tbody tr th:only-of-type {\n",
       "        vertical-align: middle;\n",
       "    }\n",
       "\n",
       "    .dataframe tbody tr th {\n",
       "        vertical-align: top;\n",
       "    }\n",
       "\n",
       "    .dataframe thead th {\n",
       "        text-align: right;\n",
       "    }\n",
       "</style>\n",
       "<table border=\"1\" class=\"dataframe\">\n",
       "  <thead>\n",
       "    <tr style=\"text-align: right;\">\n",
       "      <th></th>\n",
       "      <th>loan_id</th>\n",
       "      <th>no_of_dependents</th>\n",
       "      <th>income_annum</th>\n",
       "      <th>loan_amount</th>\n",
       "      <th>loan_term</th>\n",
       "      <th>cibil_score</th>\n",
       "      <th>residential_assets_value</th>\n",
       "      <th>commercial_assets_value</th>\n",
       "      <th>luxury_assets_value</th>\n",
       "      <th>bank_asset_value</th>\n",
       "    </tr>\n",
       "  </thead>\n",
       "  <tbody>\n",
       "    <tr>\n",
       "      <th>count</th>\n",
       "      <td>4269.000000</td>\n",
       "      <td>4269.000000</td>\n",
       "      <td>4.269000e+03</td>\n",
       "      <td>4.269000e+03</td>\n",
       "      <td>4269.000000</td>\n",
       "      <td>4269.000000</td>\n",
       "      <td>4.269000e+03</td>\n",
       "      <td>4.269000e+03</td>\n",
       "      <td>4.269000e+03</td>\n",
       "      <td>4.269000e+03</td>\n",
       "    </tr>\n",
       "    <tr>\n",
       "      <th>mean</th>\n",
       "      <td>2135.000000</td>\n",
       "      <td>2.498712</td>\n",
       "      <td>5.059124e+06</td>\n",
       "      <td>1.513345e+07</td>\n",
       "      <td>10.900445</td>\n",
       "      <td>599.936051</td>\n",
       "      <td>7.472617e+06</td>\n",
       "      <td>4.973155e+06</td>\n",
       "      <td>1.512631e+07</td>\n",
       "      <td>4.976692e+06</td>\n",
       "    </tr>\n",
       "    <tr>\n",
       "      <th>std</th>\n",
       "      <td>1232.498479</td>\n",
       "      <td>1.695910</td>\n",
       "      <td>2.806840e+06</td>\n",
       "      <td>9.043363e+06</td>\n",
       "      <td>5.709187</td>\n",
       "      <td>172.430401</td>\n",
       "      <td>6.503637e+06</td>\n",
       "      <td>4.388966e+06</td>\n",
       "      <td>9.103754e+06</td>\n",
       "      <td>3.250185e+06</td>\n",
       "    </tr>\n",
       "    <tr>\n",
       "      <th>min</th>\n",
       "      <td>1.000000</td>\n",
       "      <td>0.000000</td>\n",
       "      <td>2.000000e+05</td>\n",
       "      <td>3.000000e+05</td>\n",
       "      <td>2.000000</td>\n",
       "      <td>300.000000</td>\n",
       "      <td>-1.000000e+05</td>\n",
       "      <td>0.000000e+00</td>\n",
       "      <td>3.000000e+05</td>\n",
       "      <td>0.000000e+00</td>\n",
       "    </tr>\n",
       "    <tr>\n",
       "      <th>25%</th>\n",
       "      <td>1068.000000</td>\n",
       "      <td>1.000000</td>\n",
       "      <td>2.700000e+06</td>\n",
       "      <td>7.700000e+06</td>\n",
       "      <td>6.000000</td>\n",
       "      <td>453.000000</td>\n",
       "      <td>2.200000e+06</td>\n",
       "      <td>1.300000e+06</td>\n",
       "      <td>7.500000e+06</td>\n",
       "      <td>2.300000e+06</td>\n",
       "    </tr>\n",
       "    <tr>\n",
       "      <th>50%</th>\n",
       "      <td>2135.000000</td>\n",
       "      <td>3.000000</td>\n",
       "      <td>5.100000e+06</td>\n",
       "      <td>1.450000e+07</td>\n",
       "      <td>10.000000</td>\n",
       "      <td>600.000000</td>\n",
       "      <td>5.600000e+06</td>\n",
       "      <td>3.700000e+06</td>\n",
       "      <td>1.460000e+07</td>\n",
       "      <td>4.600000e+06</td>\n",
       "    </tr>\n",
       "    <tr>\n",
       "      <th>75%</th>\n",
       "      <td>3202.000000</td>\n",
       "      <td>4.000000</td>\n",
       "      <td>7.500000e+06</td>\n",
       "      <td>2.150000e+07</td>\n",
       "      <td>16.000000</td>\n",
       "      <td>748.000000</td>\n",
       "      <td>1.130000e+07</td>\n",
       "      <td>7.600000e+06</td>\n",
       "      <td>2.170000e+07</td>\n",
       "      <td>7.100000e+06</td>\n",
       "    </tr>\n",
       "    <tr>\n",
       "      <th>max</th>\n",
       "      <td>4269.000000</td>\n",
       "      <td>5.000000</td>\n",
       "      <td>9.900000e+06</td>\n",
       "      <td>3.950000e+07</td>\n",
       "      <td>20.000000</td>\n",
       "      <td>900.000000</td>\n",
       "      <td>2.910000e+07</td>\n",
       "      <td>1.940000e+07</td>\n",
       "      <td>3.920000e+07</td>\n",
       "      <td>1.470000e+07</td>\n",
       "    </tr>\n",
       "  </tbody>\n",
       "</table>\n",
       "</div>"
      ],
      "text/plain": [
       "           loan_id  no_of_dependents  income_annum   loan_amount    loan_term  \\\n",
       "count  4269.000000       4269.000000  4.269000e+03  4.269000e+03  4269.000000   \n",
       "mean   2135.000000          2.498712  5.059124e+06  1.513345e+07    10.900445   \n",
       "std    1232.498479          1.695910  2.806840e+06  9.043363e+06     5.709187   \n",
       "min       1.000000          0.000000  2.000000e+05  3.000000e+05     2.000000   \n",
       "25%    1068.000000          1.000000  2.700000e+06  7.700000e+06     6.000000   \n",
       "50%    2135.000000          3.000000  5.100000e+06  1.450000e+07    10.000000   \n",
       "75%    3202.000000          4.000000  7.500000e+06  2.150000e+07    16.000000   \n",
       "max    4269.000000          5.000000  9.900000e+06  3.950000e+07    20.000000   \n",
       "\n",
       "       cibil_score  residential_assets_value  commercial_assets_value  \\\n",
       "count  4269.000000              4.269000e+03             4.269000e+03   \n",
       "mean    599.936051              7.472617e+06             4.973155e+06   \n",
       "std     172.430401              6.503637e+06             4.388966e+06   \n",
       "min     300.000000             -1.000000e+05             0.000000e+00   \n",
       "25%     453.000000              2.200000e+06             1.300000e+06   \n",
       "50%     600.000000              5.600000e+06             3.700000e+06   \n",
       "75%     748.000000              1.130000e+07             7.600000e+06   \n",
       "max     900.000000              2.910000e+07             1.940000e+07   \n",
       "\n",
       "       luxury_assets_value  bank_asset_value  \n",
       "count         4.269000e+03      4.269000e+03  \n",
       "mean          1.512631e+07      4.976692e+06  \n",
       "std           9.103754e+06      3.250185e+06  \n",
       "min           3.000000e+05      0.000000e+00  \n",
       "25%           7.500000e+06      2.300000e+06  \n",
       "50%           1.460000e+07      4.600000e+06  \n",
       "75%           2.170000e+07      7.100000e+06  \n",
       "max           3.920000e+07      1.470000e+07  "
      ]
     },
     "execution_count": 11,
     "metadata": {},
     "output_type": "execute_result"
    }
   ],
   "source": [
    "df.describe()"
   ]
  },
  {
   "cell_type": "code",
   "execution_count": 12,
   "id": "965e5d9b",
   "metadata": {},
   "outputs": [
    {
     "name": "stdout",
     "output_type": "stream",
     "text": [
      " Graduate        2144\n",
      " Not Graduate    2125\n",
      "Name: education, dtype: int64\n"
     ]
    },
    {
     "data": {
      "text/plain": [
       "<Axes: xlabel='education', ylabel='count'>"
      ]
     },
     "execution_count": 12,
     "metadata": {},
     "output_type": "execute_result"
    },
    {
     "data": {
      "image/png": "[encoded data removed]",
      "text/plain": [
       "<Figure size 640x480 with 1 Axes>"
      ]
     },
     "metadata": {},
     "output_type": "display_data"
    }
   ],
   "source": [
    "print(df['education'].value_counts())\n",
    "sns.countplot(x = 'education',data = df, palette = 'Set1')"
   ]
  },
  {
   "cell_type": "code",
   "execution_count": 13,
   "id": "b6878973",
   "metadata": {},
   "outputs": [
    {
     "name": "stdout",
     "output_type": "stream",
     "text": [
      " Approved    2656\n",
      " Rejected    1613\n",
      "Name: loan_status, dtype: int64\n"
     ]
    },
    {
     "data": {
      "text/plain": [
       "<Axes: xlabel='loan_status', ylabel='count'>"
      ]
     },
     "execution_count": 13,
     "metadata": {},
     "output_type": "execute_result"
    },
    {
     "data": {
      "image/png": "[encoded data removed]",
      "text/plain": [
       "<Figure size 640x480 with 1 Axes>"
      ]
     },
     "metadata": {},
     "output_type": "display_data"
    }
   ],
   "source": [
    "print(df['loan_status'].value_counts())\n",
    "sns.countplot(x = 'loan_status',data = df, palette = 'Set1')"
   ]
  },
  {
   "cell_type": "code",
   "execution_count": 14,
   "id": "5838ec2e",
   "metadata": {},
   "outputs": [
    {
     "data": {
      "text/html": [
       "<div>\n",
       "<style scoped>\n",
       "    .dataframe tbody tr th:only-of-type {\n",
       "        vertical-align: middle;\n",
       "    }\n",
       "\n",
       "    .dataframe tbody tr th {\n",
       "        vertical-align: top;\n",
       "    }\n",
       "\n",
       "    .dataframe thead th {\n",
       "        text-align: right;\n",
       "    }\n",
       "</style>\n",
       "<table border=\"1\" class=\"dataframe\">\n",
       "  <thead>\n",
       "    <tr style=\"text-align: right;\">\n",
       "      <th></th>\n",
       "      <th>loan_id</th>\n",
       "      <th>no_of_dependents</th>\n",
       "      <th>education</th>\n",
       "      <th>self_employed</th>\n",
       "      <th>income_annum</th>\n",
       "      <th>loan_amount</th>\n",
       "      <th>loan_term</th>\n",
       "      <th>cibil_score</th>\n",
       "      <th>residential_assets_value</th>\n",
       "      <th>commercial_assets_value</th>\n",
       "      <th>luxury_assets_value</th>\n",
       "      <th>bank_asset_value</th>\n",
       "      <th>loan_status</th>\n",
       "    </tr>\n",
       "  </thead>\n",
       "  <tbody>\n",
       "    <tr>\n",
       "      <th>0</th>\n",
       "      <td>1</td>\n",
       "      <td>2</td>\n",
       "      <td>0</td>\n",
       "      <td>0</td>\n",
       "      <td>9600000</td>\n",
       "      <td>29900000</td>\n",
       "      <td>12</td>\n",
       "      <td>778</td>\n",
       "      <td>2400000</td>\n",
       "      <td>17600000</td>\n",
       "      <td>22700000</td>\n",
       "      <td>8000000</td>\n",
       "      <td>0</td>\n",
       "    </tr>\n",
       "    <tr>\n",
       "      <th>1</th>\n",
       "      <td>2</td>\n",
       "      <td>0</td>\n",
       "      <td>1</td>\n",
       "      <td>1</td>\n",
       "      <td>4100000</td>\n",
       "      <td>12200000</td>\n",
       "      <td>8</td>\n",
       "      <td>417</td>\n",
       "      <td>2700000</td>\n",
       "      <td>2200000</td>\n",
       "      <td>8800000</td>\n",
       "      <td>3300000</td>\n",
       "      <td>1</td>\n",
       "    </tr>\n",
       "    <tr>\n",
       "      <th>2</th>\n",
       "      <td>3</td>\n",
       "      <td>3</td>\n",
       "      <td>0</td>\n",
       "      <td>0</td>\n",
       "      <td>9100000</td>\n",
       "      <td>29700000</td>\n",
       "      <td>20</td>\n",
       "      <td>506</td>\n",
       "      <td>7100000</td>\n",
       "      <td>4500000</td>\n",
       "      <td>33300000</td>\n",
       "      <td>12800000</td>\n",
       "      <td>1</td>\n",
       "    </tr>\n",
       "    <tr>\n",
       "      <th>3</th>\n",
       "      <td>4</td>\n",
       "      <td>3</td>\n",
       "      <td>0</td>\n",
       "      <td>0</td>\n",
       "      <td>8200000</td>\n",
       "      <td>30700000</td>\n",
       "      <td>8</td>\n",
       "      <td>467</td>\n",
       "      <td>18200000</td>\n",
       "      <td>3300000</td>\n",
       "      <td>23300000</td>\n",
       "      <td>7900000</td>\n",
       "      <td>1</td>\n",
       "    </tr>\n",
       "    <tr>\n",
       "      <th>4</th>\n",
       "      <td>5</td>\n",
       "      <td>5</td>\n",
       "      <td>1</td>\n",
       "      <td>1</td>\n",
       "      <td>9800000</td>\n",
       "      <td>24200000</td>\n",
       "      <td>20</td>\n",
       "      <td>382</td>\n",
       "      <td>12400000</td>\n",
       "      <td>8200000</td>\n",
       "      <td>29400000</td>\n",
       "      <td>5000000</td>\n",
       "      <td>1</td>\n",
       "    </tr>\n",
       "  </tbody>\n",
       "</table>\n",
       "</div>"
      ],
      "text/plain": [
       "   loan_id  no_of_dependents  education  self_employed  income_annum  \\\n",
       "0        1                 2          0              0       9600000   \n",
       "1        2                 0          1              1       4100000   \n",
       "2        3                 3          0              0       9100000   \n",
       "3        4                 3          0              0       8200000   \n",
       "4        5                 5          1              1       9800000   \n",
       "\n",
       "   loan_amount  loan_term  cibil_score  residential_assets_value  \\\n",
       "0     29900000         12          778                   2400000   \n",
       "1     12200000          8          417                   2700000   \n",
       "2     29700000         20          506                   7100000   \n",
       "3     30700000          8          467                  18200000   \n",
       "4     24200000         20          382                  12400000   \n",
       "\n",
       "   commercial_assets_value  luxury_assets_value  bank_asset_value  loan_status  \n",
       "0                 17600000             22700000           8000000            0  \n",
       "1                  2200000              8800000           3300000            1  \n",
       "2                  4500000             33300000          12800000            1  \n",
       "3                  3300000             23300000           7900000            1  \n",
       "4                  8200000             29400000           5000000            1  "
      ]
     },
     "execution_count": 14,
     "metadata": {},
     "output_type": "execute_result"
    }
   ],
   "source": [
    "from sklearn.preprocessing import LabelEncoder\n",
    "le = LabelEncoder()\n",
    "df['education']=le.fit_transform(df['education'])\n",
    "df['self_employed']=le.fit_transform(df['self_employed'])\n",
    "df['loan_status']=le.fit_transform(df['loan_status'])\n",
    "\n",
    "df.head()"
   ]
  },
  {
   "cell_type": "markdown",
   "id": "76244ada",
   "metadata": {},
   "source": [
    "#  Feature Scaling"
   ]
  },
  {
   "cell_type": "code",
   "execution_count": 15,
   "id": "4472bbef",
   "metadata": {},
   "outputs": [],
   "source": [
    "from sklearn.preprocessing import MinMaxScaler\n",
    "sc = MinMaxScaler()"
   ]
  },
  {
   "cell_type": "code",
   "execution_count": 16,
   "id": "9a9f6d3d",
   "metadata": {},
   "outputs": [
    {
     "name": "stdout",
     "output_type": "stream",
     "text": [
      "<class 'pandas.core.frame.DataFrame'>\n",
      "RangeIndex: 4269 entries, 0 to 4268\n",
      "Data columns (total 12 columns):\n",
      " #   Column                    Non-Null Count  Dtype\n",
      "---  ------                    --------------  -----\n",
      " 0   no_of_dependents          4269 non-null   int64\n",
      " 1   education                 4269 non-null   int32\n",
      " 2   self_employed             4269 non-null   int32\n",
      " 3   income_annum              4269 non-null   int64\n",
      " 4   loan_amount               4269 non-null   int64\n",
      " 5   loan_term                 4269 non-null   int64\n",
      " 6   cibil_score               4269 non-null   int64\n",
      " 7   residential_assets_value  4269 non-null   int64\n",
      " 8   commercial_assets_value   4269 non-null   int64\n",
      " 9   luxury_assets_value       4269 non-null   int64\n",
      " 10  bank_asset_value          4269 non-null   int64\n",
      " 11  loan_status               4269 non-null   int32\n",
      "dtypes: int32(3), int64(9)\n",
      "memory usage: 350.3 KB\n"
     ]
    }
   ],
   "source": [
    "df = df.drop('loan_id',axis = 1)\n",
    "df.info()"
   ]
  },
  {
   "cell_type": "code",
   "execution_count": 17,
   "id": "a385c3b1",
   "metadata": {},
   "outputs": [
    {
     "name": "stdout",
     "output_type": "stream",
     "text": [
      "['no_of_dependents', 'income_annum', 'loan_amount', 'loan_term', 'cibil_score', 'residential_assets_value', 'commercial_assets_value', 'luxury_assets_value', 'bank_asset_value']\n"
     ]
    }
   ],
   "source": [
    "newcol = []\n",
    "for col in df.columns:\n",
    "    if df[col].dtype == 'int64':\n",
    "        newcol.append(col)\n",
    "        \n",
    "print(newcol)"
   ]
  },
  {
   "cell_type": "code",
   "execution_count": 18,
   "id": "171a3914",
   "metadata": {},
   "outputs": [
    {
     "data": {
      "text/html": [
       "<div>\n",
       "<style scoped>\n",
       "    .dataframe tbody tr th:only-of-type {\n",
       "        vertical-align: middle;\n",
       "    }\n",
       "\n",
       "    .dataframe tbody tr th {\n",
       "        vertical-align: top;\n",
       "    }\n",
       "\n",
       "    .dataframe thead th {\n",
       "        text-align: right;\n",
       "    }\n",
       "</style>\n",
       "<table border=\"1\" class=\"dataframe\">\n",
       "  <thead>\n",
       "    <tr style=\"text-align: right;\">\n",
       "      <th></th>\n",
       "      <th>no_of_dependents</th>\n",
       "      <th>education</th>\n",
       "      <th>self_employed</th>\n",
       "      <th>income_annum</th>\n",
       "      <th>loan_amount</th>\n",
       "      <th>loan_term</th>\n",
       "      <th>cibil_score</th>\n",
       "      <th>residential_assets_value</th>\n",
       "      <th>commercial_assets_value</th>\n",
       "      <th>luxury_assets_value</th>\n",
       "      <th>bank_asset_value</th>\n",
       "      <th>loan_status</th>\n",
       "    </tr>\n",
       "  </thead>\n",
       "  <tbody>\n",
       "    <tr>\n",
       "      <th>0</th>\n",
       "      <td>0.4</td>\n",
       "      <td>0</td>\n",
       "      <td>0</td>\n",
       "      <td>0.969072</td>\n",
       "      <td>0.755102</td>\n",
       "      <td>0.555556</td>\n",
       "      <td>0.796667</td>\n",
       "      <td>0.085616</td>\n",
       "      <td>0.907216</td>\n",
       "      <td>0.575835</td>\n",
       "      <td>0.544218</td>\n",
       "      <td>0</td>\n",
       "    </tr>\n",
       "    <tr>\n",
       "      <th>1</th>\n",
       "      <td>0.0</td>\n",
       "      <td>1</td>\n",
       "      <td>1</td>\n",
       "      <td>0.402062</td>\n",
       "      <td>0.303571</td>\n",
       "      <td>0.333333</td>\n",
       "      <td>0.195000</td>\n",
       "      <td>0.095890</td>\n",
       "      <td>0.113402</td>\n",
       "      <td>0.218509</td>\n",
       "      <td>0.224490</td>\n",
       "      <td>1</td>\n",
       "    </tr>\n",
       "    <tr>\n",
       "      <th>2</th>\n",
       "      <td>0.6</td>\n",
       "      <td>0</td>\n",
       "      <td>0</td>\n",
       "      <td>0.917526</td>\n",
       "      <td>0.750000</td>\n",
       "      <td>1.000000</td>\n",
       "      <td>0.343333</td>\n",
       "      <td>0.246575</td>\n",
       "      <td>0.231959</td>\n",
       "      <td>0.848329</td>\n",
       "      <td>0.870748</td>\n",
       "      <td>1</td>\n",
       "    </tr>\n",
       "    <tr>\n",
       "      <th>3</th>\n",
       "      <td>0.6</td>\n",
       "      <td>0</td>\n",
       "      <td>0</td>\n",
       "      <td>0.824742</td>\n",
       "      <td>0.775510</td>\n",
       "      <td>0.333333</td>\n",
       "      <td>0.278333</td>\n",
       "      <td>0.626712</td>\n",
       "      <td>0.170103</td>\n",
       "      <td>0.591260</td>\n",
       "      <td>0.537415</td>\n",
       "      <td>1</td>\n",
       "    </tr>\n",
       "    <tr>\n",
       "      <th>4</th>\n",
       "      <td>1.0</td>\n",
       "      <td>1</td>\n",
       "      <td>1</td>\n",
       "      <td>0.989691</td>\n",
       "      <td>0.609694</td>\n",
       "      <td>1.000000</td>\n",
       "      <td>0.136667</td>\n",
       "      <td>0.428082</td>\n",
       "      <td>0.422680</td>\n",
       "      <td>0.748072</td>\n",
       "      <td>0.340136</td>\n",
       "      <td>1</td>\n",
       "    </tr>\n",
       "  </tbody>\n",
       "</table>\n",
       "</div>"
      ],
      "text/plain": [
       "   no_of_dependents  education  self_employed  income_annum  loan_amount  \\\n",
       "0               0.4          0              0      0.969072     0.755102   \n",
       "1               0.0          1              1      0.402062     0.303571   \n",
       "2               0.6          0              0      0.917526     0.750000   \n",
       "3               0.6          0              0      0.824742     0.775510   \n",
       "4               1.0          1              1      0.989691     0.609694   \n",
       "\n",
       "   loan_term  cibil_score  residential_assets_value  commercial_assets_value  \\\n",
       "0   0.555556     0.796667                  0.085616                 0.907216   \n",
       "1   0.333333     0.195000                  0.095890                 0.113402   \n",
       "2   1.000000     0.343333                  0.246575                 0.231959   \n",
       "3   0.333333     0.278333                  0.626712                 0.170103   \n",
       "4   1.000000     0.136667                  0.428082                 0.422680   \n",
       "\n",
       "   luxury_assets_value  bank_asset_value  loan_status  \n",
       "0             0.575835          0.544218            0  \n",
       "1             0.218509          0.224490            1  \n",
       "2             0.848329          0.870748            1  \n",
       "3             0.591260          0.537415            1  \n",
       "4             0.748072          0.340136            1  "
      ]
     },
     "execution_count": 18,
     "metadata": {},
     "output_type": "execute_result"
    }
   ],
   "source": [
    "for col in newcol:\n",
    "    df[[col]] = sc.fit_transform(df[[col]])\n",
    "    \n",
    "df.head()"
   ]
  },
  {
   "cell_type": "code",
   "execution_count": 19,
   "id": "dbc962b3",
   "metadata": {},
   "outputs": [],
   "source": [
    "X = df.iloc[:,:-1].values\n",
    "y = df.iloc[:,-1].values"
   ]
  },
  {
   "cell_type": "code",
   "execution_count": 20,
   "id": "d4bb7445",
   "metadata": {},
   "outputs": [],
   "source": [
    "from sklearn.model_selection import train_test_split\n",
    "X_train, X_test, y_train, y_test = train_test_split(X, y, test_size = 0.2, random_state = 1)"
   ]
  },
  {
   "cell_type": "markdown",
   "id": "7e987e0c",
   "metadata": {},
   "source": [
    "#  3.Model Selection"
   ]
  },
  {
   "cell_type": "code",
   "execution_count": 21,
   "id": "b45c5309",
   "metadata": {},
   "outputs": [],
   "source": [
    "#from sklearn.svm import SVC#(0.9487554904831625)\n",
    "#from sklearn.linear_model import LogisticRegression#(0.9183016105417277)\n",
    "#from sklearn.tree import DecisionTreeClassifier#(1.0)\n",
    "from sklearn.ensemble import RandomForestClassifier#(0.9988286969253294)"
   ]
  },
  {
   "cell_type": "code",
   "execution_count": 22,
   "id": "f2926557",
   "metadata": {},
   "outputs": [],
   "source": [
    "# model = {\n",
    "#     'LogisticRegression': LogisticRegression(),\n",
    "#     'DecisionTreeClassifier': DecisionTreeClassifier(),\n",
    "#     'SVC': SVC(),\n",
    "#     'RandomForestClassifier': RandomForestClassifier()\n",
    "# }"
   ]
  },
  {
   "cell_type": "code",
   "execution_count": 23,
   "id": "39fb052b",
   "metadata": {},
   "outputs": [
    {
     "data": {
      "text/html": [
       "<style>#sk-container-id-1 {color: black;background-color: white;}#sk-container-id-1 pre{padding: 0;}#sk-container-id-1 div.sk-toggleable {background-color: white;}#sk-container-id-1 label.sk-toggleable__label {cursor: pointer;display: block;width: 100%;margin-bottom: 0;padding: 0.3em;box-sizing: border-box;text-align: center;}#sk-container-id-1 label.sk-toggleable__label-arrow:before {content: \"▸\";float: left;margin-right: 0.25em;color: #696969;}#sk-container-id-1 label.sk-toggleable__label-arrow:hover:before {color: black;}#sk-container-id-1 div.sk-estimator:hover label.sk-toggleable__label-arrow:before {color: black;}#sk-container-id-1 div.sk-toggleable__content {max-height: 0;max-width: 0;overflow: hidden;text-align: left;background-color: #f0f8ff;}#sk-container-id-1 div.sk-toggleable__content pre {margin: 0.2em;color: black;border-radius: 0.25em;background-color: #f0f8ff;}#sk-container-id-1 input.sk-toggleable__control:checked~div.sk-toggleable__content {max-height: 200px;max-width: 100%;overflow: auto;}#sk-container-id-1 input.sk-toggleable__control:checked~label.sk-toggleable__label-arrow:before {content: \"▾\";}#sk-container-id-1 div.sk-estimator input.sk-toggleable__control:checked~label.sk-toggleable__label {background-color: #d4ebff;}#sk-container-id-1 div.sk-label input.sk-toggleable__control:checked~label.sk-toggleable__label {background-color: #d4ebff;}#sk-container-id-1 input.sk-hidden--visually {border: 0;clip: rect(1px 1px 1px 1px);clip: rect(1px, 1px, 1px, 1px);height: 1px;margin: -1px;overflow: hidden;padding: 0;position: absolute;width: 1px;}#sk-container-id-1 div.sk-estimator {font-family: monospace;background-color: #f0f8ff;border: 1px dotted black;border-radius: 0.25em;box-sizing: border-box;margin-bottom: 0.5em;}#sk-container-id-1 div.sk-estimator:hover {background-color: #d4ebff;}#sk-container-id-1 div.sk-parallel-item::after {content: \"\";width: 100%;border-bottom: 1px solid gray;flex-grow: 1;}#sk-container-id-1 div.sk-label:hover label.sk-toggleable__label {background-color: #d4ebff;}#sk-container-id-1 div.sk-serial::before {content: \"\";position: absolute;border-left: 1px solid gray;box-sizing: border-box;top: 0;bottom: 0;left: 50%;z-index: 0;}#sk-container-id-1 div.sk-serial {display: flex;flex-direction: column;align-items: center;background-color: white;padding-right: 0.2em;padding-left: 0.2em;position: relative;}#sk-container-id-1 div.sk-item {position: relative;z-index: 1;}#sk-container-id-1 div.sk-parallel {display: flex;align-items: stretch;justify-content: center;background-color: white;position: relative;}#sk-container-id-1 div.sk-item::before, #sk-container-id-1 div.sk-parallel-item::before {content: \"\";position: absolute;border-left: 1px solid gray;box-sizing: border-box;top: 0;bottom: 0;left: 50%;z-index: -1;}#sk-container-id-1 div.sk-parallel-item {display: flex;flex-direction: column;z-index: 1;position: relative;background-color: white;}#sk-container-id-1 div.sk-parallel-item:first-child::after {align-self: flex-end;width: 50%;}#sk-container-id-1 div.sk-parallel-item:last-child::after {align-self: flex-start;width: 50%;}#sk-container-id-1 div.sk-parallel-item:only-child::after {width: 0;}#sk-container-id-1 div.sk-dashed-wrapped {border: 1px dashed gray;margin: 0 0.4em 0.5em 0.4em;box-sizing: border-box;padding-bottom: 0.4em;background-color: white;}#sk-container-id-1 div.sk-label label {font-family: monospace;font-weight: bold;display: inline-block;line-height: 1.2em;}#sk-container-id-1 div.sk-label-container {text-align: center;}#sk-container-id-1 div.sk-container {/* jupyter's `normalize.less` sets `[hidden] { display: none; }` but bootstrap.min.css set `[hidden] { display: none !important; }` so we also need the `!important` here to be able to override the default hidden behavior on the sphinx rendered scikit-learn.org. See: https://github.com/scikit-learn/scikit-learn/issues/21755 */display: inline-block !important;position: relative;}#sk-container-id-1 div.sk-text-repr-fallback {display: none;}</style><div id=\"sk-container-id-1\" class=\"sk-top-container\"><div class=\"sk-text-repr-fallback\"><pre>RandomForestClassifier(criterion=&#x27;entropy&#x27;, n_estimators=10, random_state=0)</pre><b>In a Jupyter environment, please rerun this cell to show the HTML representation or trust the notebook. <br />On GitHub, the HTML representation is unable to render, please try loading this page with nbviewer.org.</b></div><div class=\"sk-container\" hidden><div class=\"sk-item\"><div class=\"sk-estimator sk-toggleable\"><input class=\"sk-toggleable__control sk-hidden--visually\" id=\"sk-estimator-id-1\" type=\"checkbox\" checked><label for=\"sk-estimator-id-1\" class=\"sk-toggleable__label sk-toggleable__label-arrow\">RandomForestClassifier</label><div class=\"sk-toggleable__content\"><pre>RandomForestClassifier(criterion=&#x27;entropy&#x27;, n_estimators=10, random_state=0)</pre></div></div></div></div></div>"
      ],
      "text/plain": [
       "RandomForestClassifier(criterion='entropy', n_estimators=10, random_state=0)"
      ]
     },
     "execution_count": 23,
     "metadata": {},
     "output_type": "execute_result"
    }
   ],
   "source": [
    "#classifier = SVC(kernel = 'rbf', random_state = 0)\n",
    "#classifier = LogisticRegression(random_state = 0)\n",
    "#classifier = DecisionTreeClassifier(criterion = 'entropy', random_state = 0)\n",
    "classifier = RandomForestClassifier(n_estimators = 10,criterion = 'entropy',random_state = 0)\n",
    "classifier.fit(X_train,y_train)"
   ]
  },
  {
   "cell_type": "code",
   "execution_count": 37,
   "id": "272613a2",
   "metadata": {},
   "outputs": [],
   "source": [
    "from sklearn.model_selection import train_test_split\n",
    "X_train, X_test, y_train, y_test = train_test_split(X, y, test_size = 0.25, random_state = 10)\n",
    "y_pred = classifier.predict(X_train)"
   ]
  },
  {
   "cell_type": "code",
   "execution_count": 38,
   "id": "3e8a49d0",
   "metadata": {},
   "outputs": [
    {
     "data": {
      "text/plain": [
       "0.9709465791940018"
      ]
     },
     "execution_count": 38,
     "metadata": {},
     "output_type": "execute_result"
    }
   ],
   "source": [
    "from sklearn.metrics import accuracy_score\n",
    "accuracy_score(y_train,y_pred)"
   ]
  },
  {
   "cell_type": "markdown",
   "id": "18d9d640",
   "metadata": {},
   "source": [
    "# Going Forward with Random Forest model "
   ]
  },
  {
   "cell_type": "code",
   "execution_count": 39,
   "id": "2f35b8be",
   "metadata": {},
   "outputs": [
    {
     "data": {
      "text/html": [
       "<style>#sk-container-id-5 {color: black;background-color: white;}#sk-container-id-5 pre{padding: 0;}#sk-container-id-5 div.sk-toggleable {background-color: white;}#sk-container-id-5 label.sk-toggleable__label {cursor: pointer;display: block;width: 100%;margin-bottom: 0;padding: 0.3em;box-sizing: border-box;text-align: center;}#sk-container-id-5 label.sk-toggleable__label-arrow:before {content: \"▸\";float: left;margin-right: 0.25em;color: #696969;}#sk-container-id-5 label.sk-toggleable__label-arrow:hover:before {color: black;}#sk-container-id-5 div.sk-estimator:hover label.sk-toggleable__label-arrow:before {color: black;}#sk-container-id-5 div.sk-toggleable__content {max-height: 0;max-width: 0;overflow: hidden;text-align: left;background-color: #f0f8ff;}#sk-container-id-5 div.sk-toggleable__content pre {margin: 0.2em;color: black;border-radius: 0.25em;background-color: #f0f8ff;}#sk-container-id-5 input.sk-toggleable__control:checked~div.sk-toggleable__content {max-height: 200px;max-width: 100%;overflow: auto;}#sk-container-id-5 input.sk-toggleable__control:checked~label.sk-toggleable__label-arrow:before {content: \"▾\";}#sk-container-id-5 div.sk-estimator input.sk-toggleable__control:checked~label.sk-toggleable__label {background-color: #d4ebff;}#sk-container-id-5 div.sk-label input.sk-toggleable__control:checked~label.sk-toggleable__label {background-color: #d4ebff;}#sk-container-id-5 input.sk-hidden--visually {border: 0;clip: rect(1px 1px 1px 1px);clip: rect(1px, 1px, 1px, 1px);height: 1px;margin: -1px;overflow: hidden;padding: 0;position: absolute;width: 1px;}#sk-container-id-5 div.sk-estimator {font-family: monospace;background-color: #f0f8ff;border: 1px dotted black;border-radius: 0.25em;box-sizing: border-box;margin-bottom: 0.5em;}#sk-container-id-5 div.sk-estimator:hover {background-color: #d4ebff;}#sk-container-id-5 div.sk-parallel-item::after {content: \"\";width: 100%;border-bottom: 1px solid gray;flex-grow: 1;}#sk-container-id-5 div.sk-label:hover label.sk-toggleable__label {background-color: #d4ebff;}#sk-container-id-5 div.sk-serial::before {content: \"\";position: absolute;border-left: 1px solid gray;box-sizing: border-box;top: 0;bottom: 0;left: 50%;z-index: 0;}#sk-container-id-5 div.sk-serial {display: flex;flex-direction: column;align-items: center;background-color: white;padding-right: 0.2em;padding-left: 0.2em;position: relative;}#sk-container-id-5 div.sk-item {position: relative;z-index: 1;}#sk-container-id-5 div.sk-parallel {display: flex;align-items: stretch;justify-content: center;background-color: white;position: relative;}#sk-container-id-5 div.sk-item::before, #sk-container-id-5 div.sk-parallel-item::before {content: \"\";position: absolute;border-left: 1px solid gray;box-sizing: border-box;top: 0;bottom: 0;left: 50%;z-index: -1;}#sk-container-id-5 div.sk-parallel-item {display: flex;flex-direction: column;z-index: 1;position: relative;background-color: white;}#sk-container-id-5 div.sk-parallel-item:first-child::after {align-self: flex-end;width: 50%;}#sk-container-id-5 div.sk-parallel-item:last-child::after {align-self: flex-start;width: 50%;}#sk-container-id-5 div.sk-parallel-item:only-child::after {width: 0;}#sk-container-id-5 div.sk-dashed-wrapped {border: 1px dashed gray;margin: 0 0.4em 0.5em 0.4em;box-sizing: border-box;padding-bottom: 0.4em;background-color: white;}#sk-container-id-5 div.sk-label label {font-family: monospace;font-weight: bold;display: inline-block;line-height: 1.2em;}#sk-container-id-5 div.sk-label-container {text-align: center;}#sk-container-id-5 div.sk-container {/* jupyter's `normalize.less` sets `[hidden] { display: none; }` but bootstrap.min.css set `[hidden] { display: none !important; }` so we also need the `!important` here to be able to override the default hidden behavior on the sphinx rendered scikit-learn.org. See: https://github.com/scikit-learn/scikit-learn/issues/21755 */display: inline-block !important;position: relative;}#sk-container-id-5 div.sk-text-repr-fallback {display: none;}</style><div id=\"sk-container-id-5\" class=\"sk-top-container\"><div class=\"sk-text-repr-fallback\"><pre>RandomForestClassifier(criterion=&#x27;entropy&#x27;, n_estimators=10, random_state=0)</pre><b>In a Jupyter environment, please rerun this cell to show the HTML representation or trust the notebook. <br />On GitHub, the HTML representation is unable to render, please try loading this page with nbviewer.org.</b></div><div class=\"sk-container\" hidden><div class=\"sk-item\"><div class=\"sk-estimator sk-toggleable\"><input class=\"sk-toggleable__control sk-hidden--visually\" id=\"sk-estimator-id-5\" type=\"checkbox\" checked><label for=\"sk-estimator-id-5\" class=\"sk-toggleable__label sk-toggleable__label-arrow\">RandomForestClassifier</label><div class=\"sk-toggleable__content\"><pre>RandomForestClassifier(criterion=&#x27;entropy&#x27;, n_estimators=10, random_state=0)</pre></div></div></div></div></div>"
      ],
      "text/plain": [
       "RandomForestClassifier(criterion='entropy', n_estimators=10, random_state=0)"
      ]
     },
     "execution_count": 39,
     "metadata": {},
     "output_type": "execute_result"
    }
   ],
   "source": [
    "classifier.fit(X_test,y_test)"
   ]
  },
  {
   "cell_type": "code",
   "execution_count": 40,
   "id": "75c55047",
   "metadata": {},
   "outputs": [],
   "source": [
    "y_pred_test = classifier.predict(X_test)"
   ]
  },
  {
   "cell_type": "code",
   "execution_count": 41,
   "id": "2d71e387",
   "metadata": {},
   "outputs": [
    {
     "data": {
      "text/plain": [
       "0.9962546816479401"
      ]
     },
     "execution_count": 41,
     "metadata": {},
     "output_type": "execute_result"
    }
   ],
   "source": [
    "accuracy_score(y_test,y_pred_test)"
   ]
  },
  {
   "cell_type": "code",
   "execution_count": null,
   "id": "0dac5e88",
   "metadata": {},
   "outputs": [],
   "source": []
  }
 ],
 "metadata": {
  "kernelspec": {
   "display_name": "Python 3 (ipykernel)",
   "language": "python",
   "name": "python3"
  },
  "language_info": {
   "codemirror_mode": {
    "name": "ipython",
    "version": 3
   },
   "file_extension": ".py",
   "mimetype": "text/x-python",
   "name": "python",
   "nbconvert_exporter": "python",
   "pygments_lexer": "ipython3",
   "version": "3.10.9"
  }
 },
 "nbformat": 4,
 "nbformat_minor": 5
}
